{
  "nbformat": 4,
  "nbformat_minor": 0,
  "metadata": {
    "colab": {
      "provenance": [],
      "authorship_tag": "ABX9TyNmyiGfFeeQfwQ/z+dIZfby",
      "include_colab_link": true
    },
    "kernelspec": {
      "name": "python3",
      "display_name": "Python 3"
    },
    "language_info": {
      "name": "python"
    }
  },
  "cells": [
    {
      "cell_type": "markdown",
      "metadata": {
        "id": "view-in-github",
        "colab_type": "text"
      },
      "source": [
        "<a href=\"https://colab.research.google.com/github/babaronlinecom/Projects-Solutions/blob/master/python_py.ipynb\" target=\"_parent\"><img src=\"https://colab.research.google.com/assets/colab-badge.svg\" alt=\"Open In Colab\"/></a>"
      ]
    },
    {
      "cell_type": "code",
      "execution_count": 1,
      "metadata": {
        "colab": {
          "base_uri": "https://localhost:8080/"
        },
        "id": "Bd2QIWiGHcnt",
        "outputId": "1c3fd03f-00f8-4f24-c52c-0082c8cd9acb"
      },
      "outputs": [
        {
          "output_type": "stream",
          "name": "stdout",
          "text": [
            "Tax owed: 10000.0\n"
          ]
        }
      ],
      "source": [
        "# prompt: write a code to calculate financial tax calculator as per pakistan law 2024 for teachers\n",
        "\n",
        "def calculate_pakistan_teacher_tax(income):\n",
        "  \"\"\"\n",
        "  Calculates financial tax for teachers in Pakistan as per the 2024 law.\n",
        "\n",
        "  Args:\n",
        "    income: The annual taxable income of the teacher.\n",
        "\n",
        "  Returns:\n",
        "    The amount of tax owed.\n",
        "  \"\"\"\n",
        "\n",
        "  # Tax brackets and rates for teachers in Pakistan for 2024 (hypothetical)\n",
        "  tax_brackets = [\n",
        "      (0, 600000),\n",
        "      (600001, 1200000),\n",
        "      (1200001, 2400000),\n",
        "      (2400001, float('inf'))\n",
        "  ]\n",
        "  tax_rates = [0.0, 0.05, 0.10, 0.15, 0.20]\n",
        "\n",
        "  tax = 0\n",
        "  remaining_income = income\n",
        "\n",
        "  for i in range(len(tax_brackets)):\n",
        "    bracket_start, bracket_end = tax_brackets[i]\n",
        "    rate = tax_rates[i]\n",
        "\n",
        "    if remaining_income <= 0:\n",
        "      break\n",
        "\n",
        "    taxable_amount = min(remaining_income, bracket_end - bracket_start)\n",
        "    tax += taxable_amount * rate\n",
        "    remaining_income -= taxable_amount\n",
        "\n",
        "  return tax\n",
        "\n",
        "# Example usage\n",
        "income = 800000\n",
        "tax = calculate_pakistan_teacher_tax(income)\n",
        "print(\"Tax owed:\", tax)\n"
      ]
    }
  ]
}